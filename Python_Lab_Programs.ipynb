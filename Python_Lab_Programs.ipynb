{
  "nbformat": 4,
  "nbformat_minor": 0,
  "metadata": {
    "colab": {
      "provenance": [],
      "include_colab_link": true
    },
    "kernelspec": {
      "name": "python3",
      "display_name": "Python 3"
    },
    "language_info": {
      "name": "python"
    }
  },
  "cells": [
    {
      "cell_type": "markdown",
      "metadata": {
        "id": "view-in-github",
        "colab_type": "text"
      },
      "source": [
        "<a href=\"https://colab.research.google.com/github/AnaghaTantry/ML-project/blob/main/Python_Lab_Programs.ipynb\" target=\"_parent\"><img src=\"https://colab.research.google.com/assets/colab-badge.svg\" alt=\"Open In Colab\"/></a>"
      ]
    },
    {
      "cell_type": "code",
      "execution_count": null,
      "metadata": {
        "id": "a0Ovl_pjS_Tc"
      },
      "outputs": [],
      "source": [
        "#1(A) Palindrome\n",
        "str1= input(\"Enter The String : \")\n",
        "str2 = str1[::-1]\n",
        "print(str2)\n",
        "if str1==str2 :\n",
        "  print(\"It is a Palindrome\")\n",
        "else :\n",
        "  print(\"It is not a Palindrome\")"
      ]
    },
    {
      "cell_type": "code",
      "source": [
        "#2(A) prime numbers\n",
        "sr=int(input(\"Enter The Starting Range\"))\n",
        "er=int(input(\"Enter The Ending Range\"))\n",
        "for num in range(sr,er+1):\n",
        "  if num==1:\n",
        "    continue\n",
        "  for i in range(2,num):\n",
        "    if (num%i==0):\n",
        "      break\n",
        "  else:\n",
        "    print(num)"
      ],
      "metadata": {
        "id": "bu2PTALLT3Zb"
      },
      "execution_count": null,
      "outputs": []
    },
    {
      "cell_type": "code",
      "source": [
        "#3(A) factorial\n",
        "def fac(num):\n",
        "  if num==0 :\n",
        "    return(1)\n",
        "  else:\n",
        "   return(num*fac(num-1))\n",
        "x=int(input(\"Enter The Number\"))\n",
        "num=int(x)\n",
        "result= fac(num)\n",
        "print(\"The factorial of\",num,\"is\",result)"
      ],
      "metadata": {
        "id": "uTgGv6YHT6we"
      },
      "execution_count": null,
      "outputs": []
    },
    {
      "cell_type": "code",
      "source": [
        "#4(A) Armstrong\n",
        "n=int(input(\"Enter The Number\"))\n",
        "sum=0\n",
        "num=int(n)\n",
        "while(num>0):\n",
        "  rem = num%10\n",
        "  sum += rem ** 3\n",
        "  num = int(num/10)\n",
        "if sum==n:\n",
        "  print(\"It is a Armstrong Number\")\n",
        "else:\n",
        "  print(\"It is a Not A Armstrong Number\")"
      ],
      "metadata": {
        "id": "RkG13Oi2UBW7"
      },
      "execution_count": null,
      "outputs": []
    },
    {
      "cell_type": "code",
      "source": [
        "#5(A) New String\n",
        "strn = input(\"Enter The Name\")\n",
        "newst=\"\"\n",
        "newst = strn[:2] + strn[-2:]\n",
        "print(newst)"
      ],
      "metadata": {
        "id": "H8drDCREUBhD"
      },
      "execution_count": null,
      "outputs": []
    },
    {
      "cell_type": "code",
      "source": [
        "#6(A) Anagrams\n",
        "str1=input(\"Enter The First String\")\n",
        "str2=input(\"Enter The Second String\")\n",
        "nstr1 = sorted(str1)\n",
        "nstr2 = sorted(str2)\n",
        "r = len(str1)\n",
        "flag=0\n",
        "for i in range(r):\n",
        "  if(nstr1[i] == nstr2[i]):\n",
        "    flag=1\n",
        "  else:\n",
        "    flag=0\n",
        "    break\n",
        "if flag:\n",
        "  print(\"It is a Anagram \")\n",
        "else:\n",
        "  print(\"It is Not a Anagram\")"
      ],
      "metadata": {
        "id": "euLZI30KUBrr"
      },
      "execution_count": null,
      "outputs": []
    },
    {
      "cell_type": "code",
      "source": [
        "#7(A) GCD\n",
        "a=int(input(\"Enter The First Number\"))\n",
        "b=int(input(\"Enter The Second Number\"))\n",
        "import math\n",
        "print(\"The Gcd of The 2 numbers = \",math.gcd(a,b))"
      ],
      "metadata": {
        "id": "6xLpk4QEUdQx"
      },
      "execution_count": null,
      "outputs": []
    },
    {
      "cell_type": "code",
      "source": [
        "#8(A) Current Working Directory\n",
        "import os\n",
        "path = os.getcwd()\n",
        "print(\"The Current Working Directory :\",path)"
      ],
      "metadata": {
        "id": "jPQSApA8UdVW"
      },
      "execution_count": null,
      "outputs": []
    },
    {
      "cell_type": "code",
      "source": [
        "#9(A) Number of Caps\n",
        "caps = input(\"Enter The String : \")\n",
        "count = 0\n",
        "for i in range(len(caps)):\n",
        "  if caps[i].isupper():\n",
        "    count += 1\n",
        "    print(\"Position = \",i)\n",
        "print(\"Number of Capital letters\",count)"
      ],
      "metadata": {
        "id": "kueqwr7zUdYm"
      },
      "execution_count": null,
      "outputs": []
    },
    {
      "cell_type": "code",
      "source": [
        "#10(B) Reverse Lines In File\n",
        "f1 = open(\"output1.txt\", \"w\")\n",
        "with open(\"Hey.txt\", \"r\") as myfile:\n",
        "    data = myfile.readlines()\n",
        "for d in data:\n",
        "  data_1 = d[::-1]\n",
        "  f1.write(data_1)\n",
        "f1.close()\n",
        "with open(\"output1.txt\", \"r\") as myfile:\n",
        "    data = myfile.readlines()\n",
        "    for d in data:\n",
        "        print(d)"
      ],
      "metadata": {
        "id": "CNTQ5rHUVYLO"
      },
      "execution_count": null,
      "outputs": []
    },
    {
      "cell_type": "code",
      "source": [
        "from google.colab import files\n",
        "uploaded = files.upload()\n",
        "#upload the file u will use for the above Question (i.e 2nd line Rand.txt)"
      ],
      "metadata": {
        "colab": {
          "base_uri": "https://localhost:8080/",
          "height": 73
        },
        "id": "nDbopJ_-bD2M",
        "outputId": "aaf5b0a6-4ef8-485f-dbae-c612c746b609"
      },
      "execution_count": null,
      "outputs": [
        {
          "output_type": "display_data",
          "data": {
            "text/plain": [
              "<IPython.core.display.HTML object>"
            ],
            "text/html": [
              "\n",
              "     <input type=\"file\" id=\"files-74d571a6-ffdc-4fd7-afe6-ce18d25f3009\" name=\"files[]\" multiple disabled\n",
              "        style=\"border:none\" />\n",
              "     <output id=\"result-74d571a6-ffdc-4fd7-afe6-ce18d25f3009\">\n",
              "      Upload widget is only available when the cell has been executed in the\n",
              "      current browser session. Please rerun this cell to enable.\n",
              "      </output>\n",
              "      <script>// Copyright 2017 Google LLC\n",
              "//\n",
              "// Licensed under the Apache License, Version 2.0 (the \"License\");\n",
              "// you may not use this file except in compliance with the License.\n",
              "// You may obtain a copy of the License at\n",
              "//\n",
              "//      http://www.apache.org/licenses/LICENSE-2.0\n",
              "//\n",
              "// Unless required by applicable law or agreed to in writing, software\n",
              "// distributed under the License is distributed on an \"AS IS\" BASIS,\n",
              "// WITHOUT WARRANTIES OR CONDITIONS OF ANY KIND, either express or implied.\n",
              "// See the License for the specific language governing permissions and\n",
              "// limitations under the License.\n",
              "\n",
              "/**\n",
              " * @fileoverview Helpers for google.colab Python module.\n",
              " */\n",
              "(function(scope) {\n",
              "function span(text, styleAttributes = {}) {\n",
              "  const element = document.createElement('span');\n",
              "  element.textContent = text;\n",
              "  for (const key of Object.keys(styleAttributes)) {\n",
              "    element.style[key] = styleAttributes[key];\n",
              "  }\n",
              "  return element;\n",
              "}\n",
              "\n",
              "// Max number of bytes which will be uploaded at a time.\n",
              "const MAX_PAYLOAD_SIZE = 100 * 1024;\n",
              "\n",
              "function _uploadFiles(inputId, outputId) {\n",
              "  const steps = uploadFilesStep(inputId, outputId);\n",
              "  const outputElement = document.getElementById(outputId);\n",
              "  // Cache steps on the outputElement to make it available for the next call\n",
              "  // to uploadFilesContinue from Python.\n",
              "  outputElement.steps = steps;\n",
              "\n",
              "  return _uploadFilesContinue(outputId);\n",
              "}\n",
              "\n",
              "// This is roughly an async generator (not supported in the browser yet),\n",
              "// where there are multiple asynchronous steps and the Python side is going\n",
              "// to poll for completion of each step.\n",
              "// This uses a Promise to block the python side on completion of each step,\n",
              "// then passes the result of the previous step as the input to the next step.\n",
              "function _uploadFilesContinue(outputId) {\n",
              "  const outputElement = document.getElementById(outputId);\n",
              "  const steps = outputElement.steps;\n",
              "\n",
              "  const next = steps.next(outputElement.lastPromiseValue);\n",
              "  return Promise.resolve(next.value.promise).then((value) => {\n",
              "    // Cache the last promise value to make it available to the next\n",
              "    // step of the generator.\n",
              "    outputElement.lastPromiseValue = value;\n",
              "    return next.value.response;\n",
              "  });\n",
              "}\n",
              "\n",
              "/**\n",
              " * Generator function which is called between each async step of the upload\n",
              " * process.\n",
              " * @param {string} inputId Element ID of the input file picker element.\n",
              " * @param {string} outputId Element ID of the output display.\n",
              " * @return {!Iterable<!Object>} Iterable of next steps.\n",
              " */\n",
              "function* uploadFilesStep(inputId, outputId) {\n",
              "  const inputElement = document.getElementById(inputId);\n",
              "  inputElement.disabled = false;\n",
              "\n",
              "  const outputElement = document.getElementById(outputId);\n",
              "  outputElement.innerHTML = '';\n",
              "\n",
              "  const pickedPromise = new Promise((resolve) => {\n",
              "    inputElement.addEventListener('change', (e) => {\n",
              "      resolve(e.target.files);\n",
              "    });\n",
              "  });\n",
              "\n",
              "  const cancel = document.createElement('button');\n",
              "  inputElement.parentElement.appendChild(cancel);\n",
              "  cancel.textContent = 'Cancel upload';\n",
              "  const cancelPromise = new Promise((resolve) => {\n",
              "    cancel.onclick = () => {\n",
              "      resolve(null);\n",
              "    };\n",
              "  });\n",
              "\n",
              "  // Wait for the user to pick the files.\n",
              "  const files = yield {\n",
              "    promise: Promise.race([pickedPromise, cancelPromise]),\n",
              "    response: {\n",
              "      action: 'starting',\n",
              "    }\n",
              "  };\n",
              "\n",
              "  cancel.remove();\n",
              "\n",
              "  // Disable the input element since further picks are not allowed.\n",
              "  inputElement.disabled = true;\n",
              "\n",
              "  if (!files) {\n",
              "    return {\n",
              "      response: {\n",
              "        action: 'complete',\n",
              "      }\n",
              "    };\n",
              "  }\n",
              "\n",
              "  for (const file of files) {\n",
              "    const li = document.createElement('li');\n",
              "    li.append(span(file.name, {fontWeight: 'bold'}));\n",
              "    li.append(span(\n",
              "        `(${file.type || 'n/a'}) - ${file.size} bytes, ` +\n",
              "        `last modified: ${\n",
              "            file.lastModifiedDate ? file.lastModifiedDate.toLocaleDateString() :\n",
              "                                    'n/a'} - `));\n",
              "    const percent = span('0% done');\n",
              "    li.appendChild(percent);\n",
              "\n",
              "    outputElement.appendChild(li);\n",
              "\n",
              "    const fileDataPromise = new Promise((resolve) => {\n",
              "      const reader = new FileReader();\n",
              "      reader.onload = (e) => {\n",
              "        resolve(e.target.result);\n",
              "      };\n",
              "      reader.readAsArrayBuffer(file);\n",
              "    });\n",
              "    // Wait for the data to be ready.\n",
              "    let fileData = yield {\n",
              "      promise: fileDataPromise,\n",
              "      response: {\n",
              "        action: 'continue',\n",
              "      }\n",
              "    };\n",
              "\n",
              "    // Use a chunked sending to avoid message size limits. See b/62115660.\n",
              "    let position = 0;\n",
              "    do {\n",
              "      const length = Math.min(fileData.byteLength - position, MAX_PAYLOAD_SIZE);\n",
              "      const chunk = new Uint8Array(fileData, position, length);\n",
              "      position += length;\n",
              "\n",
              "      const base64 = btoa(String.fromCharCode.apply(null, chunk));\n",
              "      yield {\n",
              "        response: {\n",
              "          action: 'append',\n",
              "          file: file.name,\n",
              "          data: base64,\n",
              "        },\n",
              "      };\n",
              "\n",
              "      let percentDone = fileData.byteLength === 0 ?\n",
              "          100 :\n",
              "          Math.round((position / fileData.byteLength) * 100);\n",
              "      percent.textContent = `${percentDone}% done`;\n",
              "\n",
              "    } while (position < fileData.byteLength);\n",
              "  }\n",
              "\n",
              "  // All done.\n",
              "  yield {\n",
              "    response: {\n",
              "      action: 'complete',\n",
              "    }\n",
              "  };\n",
              "}\n",
              "\n",
              "scope.google = scope.google || {};\n",
              "scope.google.colab = scope.google.colab || {};\n",
              "scope.google.colab._files = {\n",
              "  _uploadFiles,\n",
              "  _uploadFilesContinue,\n",
              "};\n",
              "})(self);\n",
              "</script> "
            ]
          },
          "metadata": {}
        },
        {
          "output_type": "stream",
          "name": "stdout",
          "text": [
            "Saving Hey.txt to Hey.txt\n"
          ]
        }
      ]
    },
    {
      "cell_type": "code",
      "source": [
        "#11(A) Command Line Argument\n",
        "import sys\n",
        "if len(sys.argv) < 2:\n",
        "  print(\"\")\n",
        "  sys.exit()\n",
        "filename = sys.argv[1]\n",
        "with open(temp.txt,'r') as file:\n",
        "  lines = file.readlines()\n",
        "word_count = 0\n",
        "line_count = len(lines)\n",
        "for line in lines:\n",
        "  words = line.split()\n",
        "  words_count += len(words)\n",
        "print(\"Program is\"+sys.argv[0])\n",
        "print(\"Number of Words =\",words_count)\n",
        "print(\"NUmber Of Lines =\",line_count)"
      ],
      "metadata": {
        "id": "vjOhGMY0Udbo"
      },
      "execution_count": null,
      "outputs": []
    },
    {
      "cell_type": "code",
      "source": [
        "#12(A) Num or Str\n",
        "num=input(\"Enter The Number or String\")\n",
        "if num.isdigit():\n",
        "  print(\"User input is Number\")\n",
        "else:\n",
        "  print(\"It Is A String\")"
      ],
      "metadata": {
        "id": "GvNHFUhqUde7"
      },
      "execution_count": null,
      "outputs": []
    },
    {
      "cell_type": "code",
      "source": [
        "#13(A) Reverse a Number\n",
        "num = 1540\n",
        "num1=str(num)[::-1]\n",
        "r = len(num1)\n",
        "sum=0\n",
        "for i in range(r):\n",
        "  rem = (int(rnum))%10\n",
        "  sum += rem\n",
        "  rnum = int(rnum)/10\n",
        "print(num1)\n",
        "print(sum)"
      ],
      "metadata": {
        "id": "ee9Ll00HUdim",
        "colab": {
          "base_uri": "https://localhost:8080/"
        },
        "outputId": "630ffb1e-637d-4b4d-9340-12affae9cf5f"
      },
      "execution_count": null,
      "outputs": [
        {
          "output_type": "stream",
          "name": "stdout",
          "text": [
            "0451\n",
            "0\n"
          ]
        }
      ]
    },
    {
      "cell_type": "code",
      "source": [
        "name = \"Nidhish\"\n",
        "sal = \"1000\"\n",
        "print(\"Name = {0:10} Salary = {1:15}\".format(name,sal))"
      ],
      "metadata": {
        "colab": {
          "base_uri": "https://localhost:8080/"
        },
        "id": "1es51fjer6fO",
        "outputId": "6f1f7fc2-95d6-43b7-de6d-c7f7c0730051"
      },
      "execution_count": null,
      "outputs": [
        {
          "output_type": "stream",
          "name": "stdout",
          "text": [
            "Name = Nidhish    Salary = 1000           \n"
          ]
        }
      ]
    },
    {
      "cell_type": "code",
      "source": [
        "r,l,b = input(\"enter\").split()\n",
        "print(r,l,b)"
      ],
      "metadata": {
        "id": "dfUadWW3zShc"
      },
      "execution_count": null,
      "outputs": []
    },
    {
      "cell_type": "code",
      "source": [
        "#14(A) Mean,Var,Std Dev\n",
        "import statistics\n",
        "l = eval(input(\"Enter The List\"))\n",
        "print(\"The Mean =\",statistics.mean(l))\n",
        "print(\"The Variance =\",statistics.variance(l))\n",
        "print(\"The Standard Deviation =\",statistics.pstdev(l))"
      ],
      "metadata": {
        "id": "TheY0zh7UdmI"
      },
      "execution_count": null,
      "outputs": []
    },
    {
      "cell_type": "code",
      "source": [
        "#15(A) Content File\n",
        "cont = input(\"Enter the String : \")\n",
        "with open(\"temp.txt\",'w',) as file:\n",
        "  writer = file.write(cont)\n",
        "with open(\"temp.txt\",'r') as file:\n",
        "  read = file.read()\n",
        "  print(\"File Content :\",read)"
      ],
      "metadata": {
        "id": "ilN8ofZaVTle",
        "colab": {
          "base_uri": "https://localhost:8080/"
        },
        "outputId": "cfdb9064-75f3-4c46-b6dd-c5bdac626615"
      },
      "execution_count": null,
      "outputs": [
        {
          "output_type": "stream",
          "name": "stdout",
          "text": [
            "Enter the String : Nidhish\n",
            "File Content : Nidhish\n"
          ]
        }
      ]
    },
    {
      "cell_type": "code",
      "source": [],
      "metadata": {
        "id": "o2E7NuF6UdpV"
      },
      "execution_count": null,
      "outputs": []
    },
    {
      "cell_type": "code",
      "source": [],
      "metadata": {
        "id": "v_HemWnYUdsx"
      },
      "execution_count": null,
      "outputs": []
    },
    {
      "cell_type": "code",
      "source": [
        "                                                                          PART - B"
      ],
      "metadata": {
        "id": "uXodHbKzUdv5"
      },
      "execution_count": null,
      "outputs": []
    },
    {
      "cell_type": "code",
      "source": [],
      "metadata": {
        "id": "2jejeuLmUdzV"
      },
      "execution_count": null,
      "outputs": []
    },
    {
      "cell_type": "code",
      "source": [],
      "metadata": {
        "id": "YbPuf9o4Ud2x"
      },
      "execution_count": null,
      "outputs": []
    },
    {
      "cell_type": "code",
      "source": [
        "#1(B) Distance Btw points\n",
        "x1=int(input(\"Enter The X Coordinate of 1st Point\"))\n",
        "y1=int(input(\"Enter The Y Coordinate of 1st Point\"))\n",
        "x2=int(input(\"Enter The X Coordinate of 2nd Point\"))\n",
        "y2=int(input(\"Enter The Y Coordinate of 2nd Point\"))\n",
        "d= pow((pow((x2-x1),2)) + (pow((y2-y1),2)),0.5)\n",
        "print(d)"
      ],
      "metadata": {
        "id": "nfEBdwNwUd6f"
      },
      "execution_count": null,
      "outputs": []
    },
    {
      "cell_type": "code",
      "source": [
        "#2(B) Common Elements\n",
        "r=int(input(\"Enter The Range of 1st List\"))\n",
        "p=int(input(\"Enter The Range of 2nd List \"))\n",
        "l1=[]\n",
        "l2=[]\n",
        "l3=[]\n",
        "for i in range(0,r):\n",
        "  num=int(input(\"Enter Number For List 1:\"))\n",
        "  l1.append(num)\n",
        "for i in range(0,p):\n",
        "  num=int(input(\"Enter Number For List 2: \"))\n",
        "  l2.append(num)\n",
        "  if (l2[i] in l1):\n",
        "    l3.append(num)\n",
        "print(l3)"
      ],
      "metadata": {
        "id": "ZA9QcfozUd9u"
      },
      "execution_count": null,
      "outputs": []
    },
    {
      "cell_type": "code",
      "source": [
        "#3(B) Sorted Dictionary\n",
        "stu={}\n",
        "n= int(input(\"Enter The Number of students\"))\n",
        "for i in range(n):\n",
        "  name=input(\"Enter The Name\")\n",
        "  usn=int(input(\"Enter The USN(last 3 digits)\"))\n",
        "  stu[usn]=name\n",
        "stusort = sorted(stu.items(), key=lambda x:x[1])\n",
        "print(stusort)"
      ],
      "metadata": {
        "id": "0MScvx_NUeAm"
      },
      "execution_count": null,
      "outputs": []
    },
    {
      "cell_type": "code",
      "source": [
        "#4(B) Binary Search\n",
        "n=eval(input(\"Enter The List\"))\n",
        "n.sort()\n",
        "pos=0\n",
        "key=int(input(\"Enter The Key To Be Searched\"))\n",
        "mid=0\n",
        "high = len(n)\n",
        "low = 0\n",
        "fal= 1\n",
        "while fal != 0:\n",
        "   mid = int((high-low)/2)\n",
        "   if(n[mid]==key):\n",
        "    pos=mid\n",
        "    fal = 0\n",
        "   else:\n",
        "    if(mid>key):\n",
        "      high = (mid-1)\n",
        "      low=0\n",
        "    else:\n",
        "      low = (mid+1)\n",
        "      high = len(n)\n",
        "print(\"Position found at \",pos)"
      ],
      "metadata": {
        "id": "qkpRnWm3VIhd"
      },
      "execution_count": null,
      "outputs": []
    },
    {
      "cell_type": "code",
      "source": [
        "#5(B) Roman Numerals\n",
        "def rom(romm):\n",
        "  romval = {'I':1,'V':5,'X':10,'L':50,'C':100,'D':500,'M':1000}\n",
        "  res=0\n",
        "  pval=0\n",
        "  for x in romm[::-1]:\n",
        "    value=romval[x]\n",
        "    if value<pval:\n",
        "      res -= value\n",
        "    else:\n",
        "      res += value\n",
        "      pval = value\n",
        "  return(res)\n",
        "ROM = input(\"Enter The Roman Numeral : \")\n",
        "print(rom(ROM))"
      ],
      "metadata": {
        "id": "A8PKFMRAVIkr"
      },
      "execution_count": null,
      "outputs": []
    },
    {
      "cell_type": "code",
      "source": [
        "#6(B) Permutations\n",
        "def toString(List):\n",
        "    return ''.join(List)\n",
        "def permute(a, l, r):\n",
        "    if l == r:\n",
        "        print (toString(a))\n",
        "    else:\n",
        "        for i in range(l, r + 1):\n",
        "            a[l], a[i] = a[i], a[l]\n",
        "            permute(a, l + 1, r)\n",
        "            a[l], a[i] = a[i], a[l]\n",
        "string = \"123\"\n",
        "n = len(string)\n",
        "a = list(string)\n",
        "permute(a, 0, n-1)"
      ],
      "metadata": {
        "id": "Y6_3-okIVIn0"
      },
      "execution_count": null,
      "outputs": []
    },
    {
      "cell_type": "code",
      "source": [
        "#7(B) String Functions\n",
        "str= input(\"Enter The Sentence\")\n",
        "n=len(str)\n",
        "num,wor,upp,low = 0,0,0,0\n",
        "for i in range(n):\n",
        "  if (str[i]==\" \"):\n",
        "    continue\n",
        "  if str[i].isdigit():\n",
        "    num += 1\n",
        "  else :\n",
        "    wor += 1\n",
        "  if str[i].isupper():\n",
        "    upp += 1\n",
        "  else:\n",
        "    if str[i].isdigit():\n",
        "      continue\n",
        "    low +=1\n",
        "print(\"Total Number of Integers =\",num,\"and Total Number of Words =\",wor)\n",
        "print(\"Total Number of Capital Letters\",upp,\"Total Number of Small Letters\",low)"
      ],
      "metadata": {
        "id": "kIx9PJOcVIq8"
      },
      "execution_count": null,
      "outputs": []
    },
    {
      "cell_type": "code",
      "source": [
        "#8(B) Largest and Smallest Digits In a Number And Their DIfference\n",
        "num = int(input(\"Enter The Number : \"))\n",
        "temp = num\n",
        "l = []\n",
        "while (temp != 0):\n",
        "  n = temp%10\n",
        "  l.append(n)\n",
        "  temp = int(temp/10)\n",
        "high = max(l)\n",
        "low = min(l)\n",
        "diff = high -low\n",
        "print(\"The Largest =\",high,\"Smallest =\",low,\"Difference =\",diff)"
      ],
      "metadata": {
        "id": "PTbDSwysVIuW"
      },
      "execution_count": null,
      "outputs": []
    },
    {
      "cell_type": "code",
      "source": [
        "#9(B) Bubble Sort\n",
        "n = int(input(\"Enter The Number Of Elements In The List : \"))\n",
        "l = []\n",
        "for i in range(n):\n",
        "  num = int(input(\"Enter the Number : \"))\n",
        "  l.append(num)\n",
        "for i in range(1,n+1):\n",
        "  for j in range((n-i)):\n",
        "    if (l[j] > l[j+1]):\n",
        "      temp = l[j]\n",
        "      l[j] = l[j+1]\n",
        "      l[j+1] = temp\n",
        "print(l)"
      ],
      "metadata": {
        "id": "sX6le5wWVIxf"
      },
      "execution_count": null,
      "outputs": []
    },
    {
      "cell_type": "code",
      "source": [
        "#10(B) Patterns\n",
        "rows = 5\n",
        "k = 2 * rows - 2\n",
        "for i in range(0, rows):\n",
        "    for j in range(0, k):\n",
        "        print(end=\" \")\n",
        "    k = k - 1\n",
        "    x=4\n",
        "    for j in range(0, i ):\n",
        "        print(format(\"{} \".format(x)), end=\"\")\n",
        "        x=x-1\n",
        "    print(\" \")\n",
        "k = rows - 2\n",
        "for i in range(rows, 0, -1):\n",
        "    for j in range(k, 0, -1):\n",
        "        print(end=\" \")\n",
        "    k = k + 1\n",
        "    x=4\n",
        "    for j in range(0, i ):\n",
        "        print(format(\"{} \".format(x)), end=\"\")\n",
        "        x=x-1\n",
        "    print(\" \")"
      ],
      "metadata": {
        "id": "XVLi-tN5VI0r"
      },
      "execution_count": null,
      "outputs": []
    },
    {
      "cell_type": "code",
      "source": [
        "n=5\n",
        "for i in range(1,6):\n",
        "  print((n-i)*\" \", \"*\", (i-1)*\"* \",2*(n-i)*\" \",(i-1)*\" *\",\"*\",(n-i)*\" \")"
      ],
      "metadata": {
        "colab": {
          "base_uri": "https://localhost:8080/"
        },
        "id": "DsAoa2eJK7NT",
        "outputId": "c29b31e2-9ad3-4403-8453-2fdf7ba1c2ff"
      },
      "execution_count": null,
      "outputs": [
        {
          "output_type": "stream",
          "name": "stdout",
          "text": [
            "     *            *     \n",
            "    * *          * *    \n",
            "   * * *        * * *   \n",
            "  * * * *      * * * *  \n",
            " * * * * *    * * * * * \n"
          ]
        }
      ]
    },
    {
      "cell_type": "code",
      "source": [
        "#11(B) Library\n",
        "days = int(input(\"Enter The Number of days you are late \"))\n",
        "if (days < 6):\n",
        "  print(\"Pay Fine of 50 paise !\")\n",
        "elif (days>5 and days<10):\n",
        "  print(\"Pay Fine of 1 Rupee!\")\n",
        "elif (days>10 and days<30):\n",
        "  print(\"Pay Fine of 5 Rupees!\")\n",
        "else:\n",
        "  print(\"Your Membership has been cancelled \")"
      ],
      "metadata": {
        "id": "HZi28_RuVI3x"
      },
      "execution_count": null,
      "outputs": []
    },
    {
      "cell_type": "code",
      "source": [
        "#12(B) Search Key AND Sum Of Values\n",
        "n = int(input(\"Enter The Number fo Elemnts In Dictionary\"))\n",
        "d = {}\n",
        "for i in range(n):\n",
        "  name = input(\"Enter The Value : \")\n",
        "  k = input(\"Enter the Key Value : \")\n",
        "  d[k]=name\n",
        "l = d.keys()\n",
        "key = input(\"Enter The Key Value To Be Found : \")\n",
        "if key in l:\n",
        "  print(\"It Exists\")\n",
        "else:\n",
        "  print(\"Key Doesnt Exist\")\n",
        "sum = 0\n",
        "for values in d.values():\n",
        "   sum += int(values)\n",
        "print(\"The Sum Of The Values =\",sum)"
      ],
      "metadata": {
        "id": "VMNvpwFmVI63"
      },
      "execution_count": null,
      "outputs": []
    },
    {
      "cell_type": "code",
      "source": [
        "#13(B) Search The Elemnt\n",
        "n = int(input(\"Enter the Number of Elements in the list : \"))\n",
        "l = []\n",
        "for i in range(n):\n",
        "  num = int(input(\"Enter The Number : \"))\n",
        "  l.append(num)\n",
        "count = 0\n",
        "key = int(input(\"Enter The Element to be Searched\"))\n",
        "for i in l:\n",
        "  if key == i :\n",
        "    count += 1\n",
        "print(key,\"occurred\",count,\"times\")"
      ],
      "metadata": {
        "id": "kfylJM0ZUeD1"
      },
      "execution_count": null,
      "outputs": []
    },
    {
      "cell_type": "code",
      "source": [
        "#14(B) CSV\n",
        "import csv\n",
        "def get_top_scorer(data):\n",
        "    top_scorer = data[0]\n",
        "    for student in data:\n",
        "        if student[3] > top_scorer[3]:\n",
        "            top_scorer[3] = student\n",
        "    return(top_scorer)\n",
        "students = [[\"1MS17IS001\", \"Alice\", \"1234567890\", 87],\n",
        "    [\"1MS17IS002\", \"Bob\", \"2345678901\", 92],\n",
        "    [\"1MS17IS003\", \"Charlie\", \"3456789012\", 98],\n",
        "    [\"1MS17IS004\", \"David\", \"4567890123\", 95],\n",
        "    [\"1MS17IS005\", \"Eve\", \"5678901234\", 89]]\n",
        "with open(\"students.csv\", \"w\", newline=\"\") as file:\n",
        "    writer = csv.writer(file)\n",
        "    writer.writerows(students)\n",
        "with open(\"students.csv\", \"r\") as file:\n",
        "    reader = csv.reader(file)\n",
        "    data = list(reader)\n",
        "    data.sort(key=lambda x: x[0])\n",
        "for student in data:\n",
        "  print(student)\n",
        "  top_scorer = get_top_scorer(data[1:])\n",
        "  print(\"Top scorer: \",top_scorer[1])"
      ],
      "metadata": {
        "id": "kXXTd0V3VsVJ"
      },
      "execution_count": null,
      "outputs": []
    },
    {
      "cell_type": "code",
      "source": [
        "#15(B) Linear Search\n",
        "n = int(input(\"Enetr The Number Of Elements in The List : \"))\n",
        "l =[]\n",
        "for i in range(n):\n",
        "  num = int(input(\"Enter The Number : \"))\n",
        "  l.append(num)\n",
        "key = int(input(\"Enter The Key To Be Searched\"))\n",
        "for i in range(n):\n",
        "  if key == l[i]:\n",
        "    print(\"Element Found At Position :\",i)\n",
        "    break\n",
        "else:\n",
        "  print(\"Element Not Found!!!\")"
      ],
      "metadata": {
        "id": "yyfnd4SlVsYG"
      },
      "execution_count": null,
      "outputs": []
    }
  ]
}